{
 "cells": [
  {
   "cell_type": "code",
   "execution_count": 8,
   "metadata": {},
   "outputs": [],
   "source": [
    "import pandas\n",
    "from pathlib import Path\n",
    "from core.parser import parse_mgf, pick_mgf"
   ]
  },
  {
   "cell_type": "code",
   "execution_count": 9,
   "metadata": {},
   "outputs": [],
   "source": [
    "mgf_path = \"../data/demo1.mgf\""
   ]
  },
  {
   "cell_type": "code",
   "execution_count": 10,
   "metadata": {},
   "outputs": [],
   "source": [
    "with Path(mgf_path).open(\"r\") as file:\n",
    "    mgf_data = file.read()"
   ]
  },
  {
   "cell_type": "code",
   "execution_count": 11,
   "metadata": {},
   "outputs": [
    {
     "name": "stdout",
     "output_type": "stream",
     "text": [
      "245\n"
     ]
    }
   ],
   "source": [
    "parsed_mgf = parse_mgf(mgf_data)\n",
    "print(len(parsed_mgf))"
   ]
  },
  {
   "cell_type": "code",
   "execution_count": 14,
   "metadata": {},
   "outputs": [
    {
     "name": "stdout",
     "output_type": "stream",
     "text": [
      "4\n",
      "{'FEATURE_ID': '1', 'PEPMASS': '457.3427', 'SCANS': '1', 'RTINSECONDS': '1154.666', 'CHARGE': '1+', 'MSLEVEL': '2', 'masses': [(120.9659, 32000.0), (233.0909, 49000.0), (345.2161, 25000.0), (457.3434, 15000.0), (458.2066, 660.0), (458.2215, 1000.0), (458.3464, 1100.0), (475.3547, 500.0)]}\n"
     ]
    }
   ],
   "source": [
    "# 使用您之前解析的mgf数据和pick_mgf函数\n",
    "picked_mgf = pick_mgf(parsed_mgf, 233.0909, 1000)\n",
    "print(len(picked_mgf))\n",
    "print(picked_mgf[0])"
   ]
  }
 ],
 "metadata": {
  "kernelspec": {
   "display_name": "mz",
   "language": "python",
   "name": "python3"
  },
  "language_info": {
   "codemirror_mode": {
    "name": "ipython",
    "version": 3
   },
   "file_extension": ".py",
   "mimetype": "text/x-python",
   "name": "python",
   "nbconvert_exporter": "python",
   "pygments_lexer": "ipython3",
   "version": "3.9.18"
  }
 },
 "nbformat": 4,
 "nbformat_minor": 2
}
